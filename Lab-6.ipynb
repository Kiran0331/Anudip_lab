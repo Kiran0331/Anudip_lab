{
 "cells": [
  {
   "cell_type": "markdown",
   "id": "7f8a86bc",
   "metadata": {},
   "source": [
    "1. Write a Python program to Get Only unique items from two sets.\n",
    "\n",
    "Input:\n",
    "\n",
    "set1 = {10, 20, 30, 40, 50}\n",
    "\n",
    "set2 = {30, 40, 50, 60, 70}\n",
    "\n",
    "Output:\n",
    "\n",
    "{70, 40, 10, 50, 20, 60, 30}"
   ]
  },
  {
   "cell_type": "code",
   "execution_count": 1,
   "id": "70507398",
   "metadata": {},
   "outputs": [
    {
     "data": {
      "text/plain": [
       "{10, 20, 30, 40, 50, 60, 70}"
      ]
     },
     "execution_count": 1,
     "metadata": {},
     "output_type": "execute_result"
    }
   ],
   "source": [
    "set1 = {10, 20, 30, 40, 50}\n",
    "set2 = {30, 40, 50, 60, 70}\n",
    "res=set1.union(set2)\n",
    "res\n"
   ]
  },
  {
   "cell_type": "markdown",
   "id": "596a39c6",
   "metadata": {},
   "source": [
    "2. Write a Python program to Return a set of elements present in Set A or B, but\n",
    "not both.\n",
    "\n",
    "Input:\n",
    "\n",
    "set1 = {10, 20, 30, 40, 50}\n",
    "\n",
    "set2 = {30, 40, 50, 60, 70}\n",
    "\n",
    "Output:\n",
    "\n",
    "{20, 70, 10, 60}"
   ]
  },
  {
   "cell_type": "code",
   "execution_count": 2,
   "id": "f46b55ad",
   "metadata": {},
   "outputs": [
    {
     "data": {
      "text/plain": [
       "{10, 20, 60, 70}"
      ]
     },
     "execution_count": 2,
     "metadata": {},
     "output_type": "execute_result"
    }
   ],
   "source": [
    "set1 = {10, 20, 30, 40, 50}\n",
    "set2 = {30, 40, 50, 60, 70}\n",
    "res1=set1.symmetric_difference(set2)\n",
    "res1"
   ]
  },
  {
   "cell_type": "markdown",
   "id": "854034ca",
   "metadata": {},
   "source": [
    "3. Write a Python program to Check if two sets have any elements in common. If yes, display the common elements.\n",
    "\n",
    "Input:\n",
    "\n",
    "set1 = {10, 20, 30, 40, 50}\n",
    "\n",
    "set2 = {60, 70, 80, 90, 10}\n",
    "\n",
    "Output:\n",
    "\n",
    "{10}"
   ]
  },
  {
   "cell_type": "code",
   "execution_count": 3,
   "id": "4c9e96b4",
   "metadata": {},
   "outputs": [
    {
     "data": {
      "text/plain": [
       "{10}"
      ]
     },
     "execution_count": 3,
     "metadata": {},
     "output_type": "execute_result"
    }
   ],
   "source": [
    "set1 = {10, 20, 30, 40, 50}\n",
    "set2 = {60, 70, 80, 90, 10}\n",
    "res=set1 & set2\n",
    "res"
   ]
  },
  {
   "cell_type": "markdown",
   "id": "7c2d45e6",
   "metadata": {},
   "source": [
    "4. Write a Python program to Remove items from set1 that are not common to both set1 and set2.\n",
    "\n",
    "Input:\n",
    "\n",
    "set1 = {10, 20, 30, 40, 50}\n",
    "\n",
    "set2 = {30, 40, 50, 60, 70}\n",
    "\n",
    "Output:\n",
    "\n",
    "{40, 50, 30}"
   ]
  },
  {
   "cell_type": "code",
   "execution_count": 8,
   "id": "723b8b50",
   "metadata": {},
   "outputs": [
    {
     "name": "stdout",
     "output_type": "stream",
     "text": [
      "{40, 50, 30}\n"
     ]
    }
   ],
   "source": [
    "set1 = {10, 20, 30, 40, 50}\n",
    "set2 = {30, 40, 50, 60, 70}\n",
    "set1.intersection_update(set2)\n",
    "print(set1)\n"
   ]
  },
  {
   "cell_type": "markdown",
   "id": "67fcb856",
   "metadata": {},
   "source": [
    "5. Ask the user how many visitors visited the website. Take the visitor names (or IDs) as input one by one. Store the visitor names in a set to avoid duplicates. At the end, display: The list of unique visitors. Total number of unique visitors."
   ]
  },
  {
   "cell_type": "code",
   "execution_count": 10,
   "id": "6a485180",
   "metadata": {},
   "outputs": [
    {
     "name": "stdout",
     "output_type": "stream",
     "text": [
      "Enter the number od visitors visiting today : 3\n",
      "Enter visitor name : Kiran\n",
      "Enter visitor name : ravi\n",
      "Enter visitor name : kumar\n",
      "{'Kiran', 'kumar', 'ravi'}\n",
      "Total number of visiters are :  3\n"
     ]
    }
   ],
   "source": [
    "number=int(input(\"Enter the number od visitors visiting today : \"))\n",
    "set1=set()\n",
    "for _ in range(number):\n",
    "    visitor_name=input(\"Enter visitor name : \")\n",
    "    set1.add(visitor_name)\n",
    "print(set1)\n",
    "print(\"Total number of visiters are : \", len(set1))"
   ]
  },
  {
   "cell_type": "markdown",
   "id": "dc61f204",
   "metadata": {},
   "source": [
    "6. Write a Python program to find common hobbies between two friends using sets. Take comma-separated hobby inputs from two users (e.g., \"reading, painting, cricket\"). Convert the inputs into two sets.\n",
    "\n",
    "Display:\n",
    "\n",
    "Common hobbies using set intersection.\n",
    "\n",
    "All hobbies using set union.\n",
    "\n",
    "Hobbies unique to each friend."
   ]
  },
  {
   "cell_type": "code",
   "execution_count": 12,
   "id": "bfe6abf4",
   "metadata": {},
   "outputs": [
    {
     "name": "stdout",
     "output_type": "stream",
     "text": [
      "Enter hobbies of Friend 1 (comma-separated): cricket,reading,movies\n",
      "Enter hobbies of Friend 2 (comma-separated): sports,reading,painting\n",
      "Common Hobbies :  {'reading'}\n",
      "All hobbies :  {'painting', 'sports', 'movies', 'reading', 'cricket'}\n",
      "Hobbies unique :  {'painting', 'cricket', 'sports', 'movies'}\n"
     ]
    }
   ],
   "source": [
    "hobbies1 = input(\"Enter hobbies of Friend 1 (comma-separated): \")\n",
    "hobbies2 = input(\"Enter hobbies of Friend 2 (comma-separated): \")\n",
    "\n",
    "set1=set(h.strip().lower() for h in hobbies1.split(\",\"))\n",
    "set2=set(h.strip().lower() for h in hobbies2.split(\",\"))\n",
    "\n",
    "Common_hobbies=set1 & set2\n",
    "print(\"Common Hobbies : \", Common_hobbies)\n",
    "\n",
    "All_hobbies= set1 | set2\n",
    "print(\"All hobbies : \", All_hobbies)\n",
    "\n",
    "Hobbies_unique=set1.symmetric_difference(set2)\n",
    "\n",
    "print(\"Hobbies unique : \", Hobbies_unique)"
   ]
  },
  {
   "cell_type": "code",
   "execution_count": null,
   "id": "e56d821a",
   "metadata": {},
   "outputs": [],
   "source": []
  }
 ],
 "metadata": {
  "kernelspec": {
   "display_name": "Python 3 (ipykernel)",
   "language": "python",
   "name": "python3"
  },
  "language_info": {
   "codemirror_mode": {
    "name": "ipython",
    "version": 3
   },
   "file_extension": ".py",
   "mimetype": "text/x-python",
   "name": "python",
   "nbconvert_exporter": "python",
   "pygments_lexer": "ipython3",
   "version": "3.7.8rc1"
  }
 },
 "nbformat": 4,
 "nbformat_minor": 5
}
