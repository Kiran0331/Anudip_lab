{
 "cells": [
  {
   "cell_type": "markdown",
   "id": "5354d473",
   "metadata": {},
   "source": [
    "1. Using input() function take one number from the user and using ternary operators\n",
    "check whether the number is even or odd\n"
   ]
  },
  {
   "cell_type": "code",
   "execution_count": 1,
   "id": "25f29add",
   "metadata": {},
   "outputs": [
    {
     "name": "stdout",
     "output_type": "stream",
     "text": [
      "enter the number15\n",
      "Odd\n"
     ]
    }
   ],
   "source": [
    "number=int(input(\"enter the number\"))\n",
    "res= \"Even\" if number%2==0 else \"Odd\"\n",
    "print(res)"
   ]
  },
  {
   "cell_type": "markdown",
   "id": "cd2aa589",
   "metadata": {},
   "source": [
    "2. Using input function take two number and then swap the number"
   ]
  },
  {
   "cell_type": "code",
   "execution_count": 2,
   "id": "473fefa7",
   "metadata": {},
   "outputs": [
    {
     "name": "stdout",
     "output_type": "stream",
     "text": [
      "Enter first number 33\n",
      "Enter second number 66\n",
      "Num1 33\n",
      "Num2 66\n",
      "After swapping\n",
      "Num1  66\n",
      "Num2  33\n"
     ]
    }
   ],
   "source": [
    "num1=int(input(\"Enter first number \"))\n",
    "num2=int(input(\"Enter second number \"))\n",
    "print(\"Num1\",num1)\n",
    "print(\"Num2\",num2)\n",
    "temp=num1\n",
    "num1=num2\n",
    "num2=temp\n",
    "print(\"After swapping\")\n",
    "print(\"Num1 \",num1)\n",
    "print(\"Num2 \",num2)"
   ]
  },
  {
   "cell_type": "markdown",
   "id": "c74feaf4",
   "metadata": {},
   "source": [
    "3. Write a Program to Convert Kilometers to Miles\n"
   ]
  },
  {
   "cell_type": "code",
   "execution_count": 4,
   "id": "aa3c0ab2",
   "metadata": {},
   "outputs": [
    {
     "name": "stdout",
     "output_type": "stream",
     "text": [
      "Enter the value in Kilometer to show in Miles : 60\n",
      "Km to Miles :  37.28226\n"
     ]
    }
   ],
   "source": [
    "km=int(input(\"Enter the value in Kilometer to show in Miles : \"))\n",
    "miles= km * 0.621371\n",
    "print(\"Km to Miles : \", miles)"
   ]
  },
  {
   "cell_type": "markdown",
   "id": "3bbba919",
   "metadata": {},
   "source": [
    "4. Find the Simple Interest on Rs. 200 for 5 years at 5% per year.\n"
   ]
  },
  {
   "cell_type": "code",
   "execution_count": 5,
   "id": "e6a6a057",
   "metadata": {},
   "outputs": [
    {
     "name": "stdout",
     "output_type": "stream",
     "text": [
      "50.0\n"
     ]
    }
   ],
   "source": [
    "principle=200\n",
    "time=5 #years\n",
    "rate=5 #%\n",
    "Simple_Interest=(principle * time * rate) /100\n",
    "print(Simple_Interest)"
   ]
  },
  {
   "cell_type": "code",
   "execution_count": null,
   "id": "260eaf8f",
   "metadata": {},
   "outputs": [],
   "source": []
  }
 ],
 "metadata": {
  "kernelspec": {
   "display_name": "Python 3 (ipykernel)",
   "language": "python",
   "name": "python3"
  },
  "language_info": {
   "codemirror_mode": {
    "name": "ipython",
    "version": 3
   },
   "file_extension": ".py",
   "mimetype": "text/x-python",
   "name": "python",
   "nbconvert_exporter": "python",
   "pygments_lexer": "ipython3",
   "version": "3.7.8rc1"
  }
 },
 "nbformat": 4,
 "nbformat_minor": 5
}
