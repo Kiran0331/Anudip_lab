{
 "cells": [
  {
   "cell_type": "markdown",
   "id": "b05b72c5",
   "metadata": {},
   "source": [
    "find number of times 4 appears in tuple"
   ]
  },
  {
   "cell_type": "code",
   "execution_count": 1,
   "id": "2c35a857",
   "metadata": {},
   "outputs": [
    {
     "data": {
      "text/plain": [
       "3"
      ]
     },
     "execution_count": 1,
     "metadata": {},
     "output_type": "execute_result"
    }
   ],
   "source": [
    "tupl1=(2,4,5,6,2,3,4,4,7)\n",
    "tupl1.count(4)\n"
   ]
  },
  {
   "cell_type": "markdown",
   "id": "8ada68d1",
   "metadata": {},
   "source": [
    "converting list to tuple"
   ]
  },
  {
   "cell_type": "code",
   "execution_count": 2,
   "id": "5b12d15a",
   "metadata": {},
   "outputs": [
    {
     "data": {
      "text/plain": [
       "(265, 245, 2, 'K', 5, 4, 55, 5)"
      ]
     },
     "execution_count": 2,
     "metadata": {},
     "output_type": "execute_result"
    }
   ],
   "source": [
    "list1=[265,245,2,\"K\",5,4,55,5]\n",
    "res=tuple(list1)\n",
    "res"
   ]
  },
  {
   "cell_type": "markdown",
   "id": "2389f29c",
   "metadata": {},
   "source": [
    "program to count numbers in a given list of tuples"
   ]
  },
  {
   "cell_type": "code",
   "execution_count": 3,
   "id": "2e762c2d",
   "metadata": {},
   "outputs": [
    {
     "name": "stdout",
     "output_type": "stream",
     "text": [
      "The sum is :  15\n"
     ]
    }
   ],
   "source": [
    "l=[(1,2),(2,3),(3,4)]\n",
    "res=0\n",
    "for ele in l:\n",
    "    res+=sum(ele)\n",
    "print(\"The sum is : \", res)"
   ]
  },
  {
   "cell_type": "markdown",
   "id": "0bc039f4",
   "metadata": {},
   "source": [
    "write python program to iterate the given tuples"
   ]
  },
  {
   "cell_type": "code",
   "execution_count": 4,
   "id": "7d8c8fa1",
   "metadata": {},
   "outputs": [
    {
     "name": "stdout",
     "output_type": "stream",
     "text": [
      "Name:Jon Doe,Employee ID: 101,Department:Human Resources,Salary:60000\n",
      "Name:Alex,Employee ID: HR,Department:102,Salary:Marketing\n",
      "Name:Bob,Employee ID: HR,Department:103,Salary:Engineering\n"
     ]
    }
   ],
   "source": [
    "employee1=(\"Jon Doe\",101,\"Human Resources\",60000)\n",
    "employee2=(\"Alex\",\"HR\", 102,\"Marketing\", 50000)\n",
    "employee3=(\"Bob\",\"HR\",103,\"Engineering\", 55000)\n",
    "print(f\"Name:{employee1[0]},Employee ID: {employee1[1]},Department:{employee1[2]},Salary:{employee1[3]}\")\n",
    "print(f\"Name:{employee2[0]},Employee ID: {employee2[1]},Department:{employee2[2]},Salary:{employee2[3]}\")\n",
    "print(f\"Name:{employee3[0]},Employee ID: {employee3[1]},Department:{employee3[2]},Salary:{employee3[3]}\")\n"
   ]
  },
  {
   "cell_type": "code",
   "execution_count": 5,
   "id": "52e77083",
   "metadata": {},
   "outputs": [
    {
     "name": "stdout",
     "output_type": "stream",
     "text": [
      "-------------------------BILLING COUNTER------------------------\n",
      "How many products do you like to purchase : 3\n",
      "Enter your product Name : Book\n",
      "Purchased product price : 50\n",
      "Quantity Purchased : 10\n",
      "('Book', 50, 10)\n",
      "Enter your product Name : Pen\n",
      "Purchased product price : 25\n",
      "Quantity Purchased : 15\n",
      "('Pen', 25, 15)\n",
      "Enter your product Name : Uniform\n",
      "Purchased product price : 780\n",
      "Quantity Purchased : 1\n",
      "('Uniform', 780, 1)\n",
      "[('Book', 50, 10), ('Pen', 25, 15), ('Uniform', 780, 1)]\n",
      "\n",
      "----------------BILL DETAILS--------------\n",
      "\n",
      "Book : ₹50 x 10 = ₹500 \n",
      "Pen : ₹25 x 15 = ₹375 \n",
      "Uniform : ₹780 x 1 = ₹780 \n",
      "\n",
      "Total Amount to Pay :  1655\n"
     ]
    }
   ],
   "source": [
    "print(\"-------------------------BILLING COUNTER------------------------\")\n",
    "elements=int(input(\"How many products do you like to purchase : \"))\n",
    "all_items=[]\n",
    "for i in range(elements):\n",
    "    items=[]\n",
    "    product1=input(\"Enter your product Name : \")\n",
    "    items.append(product1)\n",
    "    price=int(input(\"Purchased product price : \"))\n",
    "    items.append(price)\n",
    "    number=int(input(\"Quantity Purchased : \"))\n",
    "    items.append(number)\n",
    "    res=tuple(items)\n",
    "    print(res)\n",
    "    all_items.append(res)\n",
    "print(all_items)\n",
    "print()\n",
    "print(\"----------------BILL DETAILS--------------\")\n",
    "print()\n",
    "total=0\n",
    "for ele in all_items:\n",
    "    print(f\"{ele[0]} : ₹{ele[1]} x {ele[2]} = ₹{ele[1] * ele[2]} \")\n",
    "    total+=ele[1]*ele[2]\n",
    "print()\n",
    "print(\"Total Amount to Pay : \", total)"
   ]
  },
  {
   "cell_type": "code",
   "execution_count": null,
   "id": "5886d402",
   "metadata": {},
   "outputs": [],
   "source": []
  },
  {
   "cell_type": "code",
   "execution_count": null,
   "id": "1a290713",
   "metadata": {},
   "outputs": [],
   "source": []
  }
 ],
 "metadata": {
  "kernelspec": {
   "display_name": "Python 3 (ipykernel)",
   "language": "python",
   "name": "python3"
  },
  "language_info": {
   "codemirror_mode": {
    "name": "ipython",
    "version": 3
   },
   "file_extension": ".py",
   "mimetype": "text/x-python",
   "name": "python",
   "nbconvert_exporter": "python",
   "pygments_lexer": "ipython3",
   "version": "3.7.8rc1"
  }
 },
 "nbformat": 4,
 "nbformat_minor": 5
}
