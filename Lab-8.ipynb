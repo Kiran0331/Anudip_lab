{
 "cells": [
  {
   "cell_type": "markdown",
   "id": "658af62b",
   "metadata": {},
   "source": [
    "Problem1: Enter marks for 5 subjects. Raise an exception if any mark is below 0 or above 100.\n",
    "\n",
    "Requirement:\n",
    "\n",
    "Use raise for invalid mark\n",
    "\n",
    "Handle using try-except"
   ]
  },
  {
   "cell_type": "code",
   "execution_count": 2,
   "id": "53dcb1fb",
   "metadata": {},
   "outputs": [
    {
     "name": "stdout",
     "output_type": "stream",
     "text": [
      "Enter your Marks : 56\n",
      "Enter your Marks : 48\n",
      "Enter your Marks : -58\n",
      "marks must be Positive\n"
     ]
    }
   ],
   "source": [
    "try:\n",
    "    mark=[]\n",
    "    for _ in range(5):\n",
    "        marks=int(input(\"Enter your Marks : \"))\n",
    "        if marks <0 :\n",
    "            raise Exception(\"marks must be Positive\")\n",
    "        if marks >100:\n",
    "            raise Exception(\"Marks should be Below 100\")\n",
    "        mark.append(marks)\n",
    "    print(mark)\n",
    "except Exception as e:\n",
    "    print(e)\n",
    "        \n",
    "        \n",
    "        "
   ]
  },
  {
   "cell_type": "markdown",
   "id": "8ebc834f",
   "metadata": {},
   "source": [
    "Problem2: Take an email input. If it doesn’t contain \"@\" and \".\", raise a ValueError.\n",
    "\n",
    "Requirement:\n",
    "\n",
    "Custom message: \"Invalid email format\""
   ]
  },
  {
   "cell_type": "code",
   "execution_count": 1,
   "id": "d4ec3d32",
   "metadata": {},
   "outputs": [
    {
     "name": "stdout",
     "output_type": "stream",
     "text": [
      "Enter your emailkiran@gmail.com\n",
      "Email is Valid.\n"
     ]
    }
   ],
   "source": [
    "email=input(\"Enter your email\")\n",
    "try:\n",
    "    if \"@\" not in email:\n",
    "        raise ValueError(\"Enter the Valid Email, your email missing (@)\")\n",
    "    if \".\" not in email:\n",
    "        raise ValueError(\"Enter the valid Email, your email missing (.)\")\n",
    "    print(\"Email is Valid.\")\n",
    "except ValueError as e:\n",
    "    print(e)"
   ]
  },
  {
   "cell_type": "markdown",
   "id": "bcc2d665",
   "metadata": {},
   "source": [
    "Problem:3 Allow user 3 login attempts. Raise PermissionError if login fails 3 times.\n",
    "\n",
    "Requirement:\n",
    "\n",
    "Use a loop with exception raising\n",
    "\n",
    "Use break if login is successful"
   ]
  },
  {
   "cell_type": "code",
   "execution_count": 6,
   "id": "27e8de06",
   "metadata": {},
   "outputs": [
    {
     "name": "stdout",
     "output_type": "stream",
     "text": [
      "Enter your name : kiena\n",
      "Login Failed, attempts left : 2\n",
      "Enter your name : kams\n",
      "Login Failed, attempts left : 1\n",
      "Enter your name : mma\n",
      "Login Failed, attempts left : 0\n",
      "Login failed 3 times, Access denied.. \n"
     ]
    }
   ],
   "source": [
    "login=[\"kiran\",\"sachin\",\"chetan\",\"rakesh\"]\n",
    "try:\n",
    "    for n in range(3):\n",
    "        \n",
    "        Id=input(\"Enter your name : \")\n",
    "        if Id in login:\n",
    "            print(\"Login Successful..!\")\n",
    "            break\n",
    "        else:\n",
    "            print(f\"Login Failed, attempts left : {2- n}\" )\n",
    "    else:\n",
    "        raise PermissionError(\"Login failed 3 times, Access denied.. \")\n",
    "except PermissionError as e:\n",
    "    print(e)\n",
    "            \n",
    "        \n",
    "                \n",
    "            \n",
    "    "
   ]
  },
  {
   "cell_type": "markdown",
   "id": "2589a957",
   "metadata": {},
   "source": [
    "Problem4: Accept a password and check if it's at least 8 characters long. If not, raise an exception.\n",
    "\n",
    "Requirement:\n",
    "\n",
    "Use raise ValueError(\"Weak password\")\n",
    "\n",
    "Use try-except block to catch and print custom message"
   ]
  },
  {
   "cell_type": "code",
   "execution_count": 9,
   "id": "09246264",
   "metadata": {},
   "outputs": [
    {
     "name": "stdout",
     "output_type": "stream",
     "text": [
      "Enter your Password.jafna\n",
      " weak Password.\n"
     ]
    }
   ],
   "source": [
    "try:\n",
    "    password=input(\"Enter your Password.\")\n",
    "    if len(password) < 8:\n",
    "        raise ValueError(\" weak Password.\")\n",
    "    else:\n",
    "        print(\"Password is Valid.\")\n",
    "except ValueError as e:\n",
    "    print(e)"
   ]
  },
  {
   "cell_type": "markdown",
   "id": "17a78374",
   "metadata": {},
   "source": [
    "\n",
    "Problem5: Create a custom exception class NegativeNumberError and raise it if user inputs a negative number.\n",
    "\n",
    "Requirement:\n",
    "\n",
    "Define your own exception class\n",
    "\n",
    "Handle it using try-except"
   ]
  },
  {
   "cell_type": "code",
   "execution_count": 11,
   "id": "25e902b1",
   "metadata": {},
   "outputs": [
    {
     "name": "stdout",
     "output_type": "stream",
     "text": [
      "Enter your lucky number-45\n",
      "Your Lucky Number is Invalid.\n"
     ]
    }
   ],
   "source": [
    "class NegativeNumberError(Exception):\n",
    "    pass\n",
    "try:\n",
    "    number=int(input(\"Enter your lucky number\"))\n",
    "    if number < 0:\n",
    "        raise NegativeNumberError(\"Your Lucky Number is Invalid.\")\n",
    "        \n",
    "    else:\n",
    "        print(\"your Lucky Number is Valid.\")\n",
    "except NegativeNumberError as e:\n",
    "    print(e)\n"
   ]
  },
  {
   "cell_type": "code",
   "execution_count": null,
   "id": "5ca4ce44",
   "metadata": {},
   "outputs": [],
   "source": []
  }
 ],
 "metadata": {
  "kernelspec": {
   "display_name": "Python 3 (ipykernel)",
   "language": "python",
   "name": "python3"
  },
  "language_info": {
   "codemirror_mode": {
    "name": "ipython",
    "version": 3
   },
   "file_extension": ".py",
   "mimetype": "text/x-python",
   "name": "python",
   "nbconvert_exporter": "python",
   "pygments_lexer": "ipython3",
   "version": "3.7.8rc1"
  }
 },
 "nbformat": 4,
 "nbformat_minor": 5
}
