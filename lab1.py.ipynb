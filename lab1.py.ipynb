{
 "cells": [
  {
   "cell_type": "markdown",
   "id": "ac629096",
   "metadata": {},
   "source": [
    "# check for prime"
   ]
  },
  {
   "cell_type": "code",
   "execution_count": 3,
   "id": "b2a60f43",
   "metadata": {},
   "outputs": [
    {
     "name": "stdout",
     "output_type": "stream",
     "text": [
      "enter the number: 67\n",
      "True\n"
     ]
    }
   ],
   "source": [
    "def prime(n):\n",
    "    if n<=1:\n",
    "        return False\n",
    "    elif n%2==0 and n!=2:\n",
    "        return False\n",
    "    elif n%3==0 and n!=3:\n",
    "        return False\n",
    "    else:\n",
    "        for i in range(5, int(n**0.5)+1,2):\n",
    "            if n%i==0:\n",
    "                return False\n",
    "        return True\n",
    "n=int(input(\"enter the number: \"))\n",
    "print(prime(n))"
   ]
  },
  {
   "cell_type": "code",
   "execution_count": null,
   "id": "014009a2",
   "metadata": {},
   "outputs": [],
   "source": []
  }
 ],
 "metadata": {
  "kernelspec": {
   "display_name": "Python 3 (ipykernel)",
   "language": "python",
   "name": "python3"
  },
  "language_info": {
   "codemirror_mode": {
    "name": "ipython",
    "version": 3
   },
   "file_extension": ".py",
   "mimetype": "text/x-python",
   "name": "python",
   "nbconvert_exporter": "python",
   "pygments_lexer": "ipython3",
   "version": "3.7.8rc1"
  }
 },
 "nbformat": 4,
 "nbformat_minor": 5
}
