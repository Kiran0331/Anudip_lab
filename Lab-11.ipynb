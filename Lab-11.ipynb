{
 "cells": [
  {
   "cell_type": "markdown",
   "id": "e36831b6",
   "metadata": {},
   "source": [
    "1. Write a decorator that ensures that all input arguments to a function are non-negative integers.\n",
    "\n",
    "print(calculate_square_root(9)) # Valid\n",
    "\n",
    "print(calculate_square_root(-9)) # Invalid"
   ]
  },
  {
   "cell_type": "code",
   "execution_count": 6,
   "id": "034db233",
   "metadata": {},
   "outputs": [
    {
     "name": "stdout",
     "output_type": "stream",
     "text": [
      "Invalid\n"
     ]
    }
   ],
   "source": [
    "def verify(func):\n",
    "    def wrapper(num):\n",
    "        if num<0:\n",
    "            return (\"Invalid\")\n",
    "        else:\n",
    "            return (\"valid\")\n",
    "    return wrapper\n",
    "@verify\n",
    "def validate(num):\n",
    "    return num**.5\n",
    "print(validate(-9))"
   ]
  },
  {
   "cell_type": "markdown",
   "id": "9b5a3a9d",
   "metadata": {},
   "source": [
    "2. Write a decorator that prints out the function’s name, arguments, and return value every time it is called. This can help debug and trace the execution of the function."
   ]
  },
  {
   "cell_type": "code",
   "execution_count": 8,
   "id": "b5349f60",
   "metadata": {},
   "outputs": [
    {
     "name": "stdout",
     "output_type": "stream",
     "text": [
      "Function: add\n",
      "Arguments: args=(5, 7), kwargs={}\n",
      "Return value: 12\n",
      "\n",
      "Function: greet\n",
      "Arguments: args=('Kiran',), kwargs={}\n",
      "Return value: Hello, Kiran!\n",
      "\n",
      "Function: greet\n",
      "Arguments: args=('Kiran',), kwargs={'message': 'Welcome'}\n",
      "Return value: Welcome, Kiran!\n",
      "\n"
     ]
    },
    {
     "data": {
      "text/plain": [
       "'Welcome, Kiran!'"
      ]
     },
     "execution_count": 8,
     "metadata": {},
     "output_type": "execute_result"
    }
   ],
   "source": [
    "def debug_trace(func):\n",
    "    def wrapper(*args, **kwargs):\n",
    "        print(f\"Function: {func.__name__}\")\n",
    "        print(f\"Arguments: args={args}, kwargs={kwargs}\")\n",
    "        result = func(*args, **kwargs)\n",
    "        print(f\"Return value: {result}\\n\")\n",
    "        return result\n",
    "    return wrapper\n",
    "@debug_trace\n",
    "def add(a,b):\n",
    "    return a+b\n",
    "\n",
    "@debug_trace\n",
    "def greet(name, message=\"Hello\"):\n",
    "    return (f\"{message}, {name}!\")\n",
    "\n",
    "add(5, 7)\n",
    "greet(\"Kiran\")\n",
    "greet(\"Kiran\", message=\"Welcome\")"
   ]
  },
  {
   "cell_type": "markdown",
   "id": "9e2ffa45",
   "metadata": {},
   "source": [
    "3.Write a decorator that repeats the execution of a function a specified number of times.\n"
   ]
  },
  {
   "cell_type": "code",
   "execution_count": 10,
   "id": "b6391138",
   "metadata": {},
   "outputs": [
    {
     "name": "stdout",
     "output_type": "stream",
     "text": [
      "Execution 1 of 3:\n",
      "Hello, Kiran!\n",
      "Execution 2 of 3:\n",
      "Hello, Kiran!\n",
      "Execution 3 of 3:\n",
      "Hello, Kiran!\n",
      "Execution 1 of 5:\n",
      "hi, Kiran!\n",
      "Execution 2 of 5:\n",
      "hi, Kiran!\n",
      "Execution 3 of 5:\n",
      "hi, Kiran!\n",
      "Execution 4 of 5:\n",
      "hi, Kiran!\n",
      "Execution 5 of 5:\n",
      "hi, Kiran!\n"
     ]
    }
   ],
   "source": [
    "def repeat(n):\n",
    "    def decorator(func):\n",
    "        def wrapper(*args, **kwargs):\n",
    "            result = None\n",
    "            for i in range(n):\n",
    "                print(f\"Execution {i+1} of {n}:\")\n",
    "                result = func(*args, **kwargs)\n",
    "            return result  # Return the last result\n",
    "        return wrapper\n",
    "    return decorator\n",
    "@repeat(3)\n",
    "def say_hello(name):\n",
    "    print(f\"Hello, {name}!\")\n",
    "@repeat(5)\n",
    "def say_hi(name):\n",
    "    print(f\"hi, {name}!\")\n",
    "say_hello(\"Kiran\")\n",
    "say_hi(\"Kiran\")\n"
   ]
  },
  {
   "cell_type": "markdown",
   "id": "01ceeed1",
   "metadata": {},
   "source": [
    "4. Write a decorator that counts the number of times a function has been called.\n"
   ]
  },
  {
   "cell_type": "code",
   "execution_count": 12,
   "id": "adb8bb89",
   "metadata": {},
   "outputs": [
    {
     "name": "stdout",
     "output_type": "stream",
     "text": [
      "greet has been called 1 times\n",
      "Hello Kiran\n",
      "greet has been called 2 times\n",
      "Hello Kiran\n",
      "greet has been called 3 times\n",
      "Hello Kiran\n"
     ]
    }
   ],
   "source": [
    "class CallCounter:\n",
    "    def __init__(self, func):\n",
    "        self.func = func\n",
    "        self.count = 0\n",
    "\n",
    "    def __call__(self, *args, **kwargs):\n",
    "        self.count += 1\n",
    "        print(f\"{self.func.__name__} has been called {self.count} times\")\n",
    "        return self.func(*args, **kwargs)\n",
    "\n",
    "@CallCounter\n",
    "def greet(name):\n",
    "    print(f\"Hello {name}\")\n",
    "\n",
    "greet(\"Kiran\")\n",
    "greet(\"Kiran\")\n",
    "greet(\"Kiran\")"
   ]
  },
  {
   "cell_type": "code",
   "execution_count": null,
   "id": "27a39d3e",
   "metadata": {},
   "outputs": [],
   "source": []
  }
 ],
 "metadata": {
  "kernelspec": {
   "display_name": "Python 3 (ipykernel)",
   "language": "python",
   "name": "python3"
  },
  "language_info": {
   "codemirror_mode": {
    "name": "ipython",
    "version": 3
   },
   "file_extension": ".py",
   "mimetype": "text/x-python",
   "name": "python",
   "nbconvert_exporter": "python",
   "pygments_lexer": "ipython3",
   "version": "3.7.8rc1"
  }
 },
 "nbformat": 4,
 "nbformat_minor": 5
}
