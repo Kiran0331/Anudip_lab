{
 "cells": [
  {
   "cell_type": "markdown",
   "id": "c0499dc1",
   "metadata": {},
   "source": [
    "1. Write a function in python to read the content from a text file \"ABC.txt\" line by line and display the same on screen.\n"
   ]
  },
  {
   "cell_type": "code",
   "execution_count": 6,
   "id": "f431635d",
   "metadata": {},
   "outputs": [
    {
     "name": "stdout",
     "output_type": "stream",
     "text": [
      "Make sure you always Complete your TAsk.\n",
      "Make Every Minute Count.\n"
     ]
    }
   ],
   "source": [
    "def myfunc(filename):\n",
    "    with open(filename, \"r\") as file:\n",
    "        contents=file.read()\n",
    "        print(contents)\n",
    "filename=\"subnet.txt\"\n",
    "myfunc(filename)"
   ]
  },
  {
   "cell_type": "markdown",
   "id": "a334f31a",
   "metadata": {},
   "source": [
    "2. Write a function in Python to count and display the total number of words in a text file “ABC.txt”"
   ]
  },
  {
   "cell_type": "code",
   "execution_count": 5,
   "id": "44210c20",
   "metadata": {},
   "outputs": [
    {
     "name": "stdout",
     "output_type": "stream",
     "text": [
      "11\n"
     ]
    }
   ],
   "source": [
    "def myfunc1(filename):\n",
    "    count=0\n",
    "    with open(filename, \"r\") as file:\n",
    "        contents=file.read()\n",
    "        words=contents.split()\n",
    "        count=len(words)\n",
    "        print(count)\n",
    "filename=\"subnet.txt\"\n",
    "myfunc1(filename)"
   ]
  },
  {
   "cell_type": "markdown",
   "id": "7c987043",
   "metadata": {},
   "source": [
    "3. Write a function in Python to count uppercase character in a text file “ABC.txt”\n"
   ]
  },
  {
   "cell_type": "code",
   "execution_count": 4,
   "id": "7ec5e88b",
   "metadata": {},
   "outputs": [
    {
     "name": "stdout",
     "output_type": "stream",
     "text": [
      "Make sure you always Complete your TAsk.\n",
      "Make Every Minute Count.\n",
      "8\n"
     ]
    }
   ],
   "source": [
    "def myfunc2(filename):\n",
    "    count=0\n",
    "    with open(filename, \"r\") as file:\n",
    "        contents=file.read()\n",
    "        print(contents)\n",
    "        for ele in contents:\n",
    "            if ele.isupper():\n",
    "                count+=1\n",
    "        print(count)\n",
    "filename=\"subnet.txt\"\n",
    "myfunc2(filename)"
   ]
  },
  {
   "cell_type": "markdown",
   "id": "df38cd9a",
   "metadata": {},
   "source": [
    "4. Write a function display_words() in python to read lines from a text file \"story.txt\", and display those words, which are less than 4 characters."
   ]
  },
  {
   "cell_type": "code",
   "execution_count": 10,
   "id": "57fc6457",
   "metadata": {},
   "outputs": [
    {
     "name": "stdout",
     "output_type": "stream",
     "text": [
      "you\n"
     ]
    }
   ],
   "source": [
    "def myfunc1(filename):\n",
    "    count=0\n",
    "    with open(filename, \"r\") as file:\n",
    "        contents=file.read()\n",
    "        words=contents.split()\n",
    "        for word in words:\n",
    "            if len(word)<4:\n",
    "                print(word)\n",
    "filename=\"subnet.txt\"\n",
    "myfunc1(filename)"
   ]
  },
  {
   "cell_type": "code",
   "execution_count": null,
   "id": "c593a941",
   "metadata": {},
   "outputs": [],
   "source": []
  }
 ],
 "metadata": {
  "kernelspec": {
   "display_name": "Python 3 (ipykernel)",
   "language": "python",
   "name": "python3"
  },
  "language_info": {
   "codemirror_mode": {
    "name": "ipython",
    "version": 3
   },
   "file_extension": ".py",
   "mimetype": "text/x-python",
   "name": "python",
   "nbconvert_exporter": "python",
   "pygments_lexer": "ipython3",
   "version": "3.7.8rc1"
  }
 },
 "nbformat": 4,
 "nbformat_minor": 5
}
