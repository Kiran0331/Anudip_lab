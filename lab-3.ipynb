{
 "cells": [
  {
   "cell_type": "markdown",
   "id": "06728859",
   "metadata": {},
   "source": [
    "Check for palindrome"
   ]
  },
  {
   "cell_type": "code",
   "execution_count": 1,
   "id": "a5a718dc",
   "metadata": {},
   "outputs": [
    {
     "name": "stdout",
     "output_type": "stream",
     "text": [
      "True\n"
     ]
    }
   ],
   "source": [
    "def check_palindrome(text):\n",
    "    if text==text[::-1]:\n",
    "        return True\n",
    "    else:\n",
    "        return False\n",
    "\n",
    "text=\"racecar\"\n",
    "print(check_palindrome(text))"
   ]
  },
  {
   "cell_type": "markdown",
   "id": "e18dccf2",
   "metadata": {},
   "source": [
    "Count number of vowels"
   ]
  },
  {
   "cell_type": "code",
   "execution_count": 15,
   "id": "3588e25a",
   "metadata": {},
   "outputs": [
    {
     "name": "stdout",
     "output_type": "stream",
     "text": [
      "14\n"
     ]
    }
   ],
   "source": [
    "text1=\"ATrueDedicationAlwaysGivesResult \"\n",
    "counter=0\n",
    "for letter in text1:\n",
    "    if letter in \"aeiouAEIOU\":\n",
    "        counter+=1\n",
    "print(counter)"
   ]
  },
  {
   "cell_type": "markdown",
   "id": "16da6360",
   "metadata": {},
   "source": [
    "3.Replace all spaces with \"-\" in a text"
   ]
  },
  {
   "cell_type": "code",
   "execution_count": 14,
   "id": "717f5856",
   "metadata": {},
   "outputs": [
    {
     "data": {
      "text/plain": [
       "'when-your-consistency-become-stronger-than-your-fear,-nothing-can-stop-you'"
      ]
     },
     "execution_count": 14,
     "metadata": {},
     "output_type": "execute_result"
    }
   ],
   "source": [
    "text2=\"when your consistency become stronger than your fear, nothing can stop you\"\n",
    "text2.replace(\" \", \"-\")"
   ]
  },
  {
   "cell_type": "markdown",
   "id": "4b6fd68f",
   "metadata": {},
   "source": [
    "4.check if a password has at least 8 character,one uppercase,one number\n"
   ]
  },
  {
   "cell_type": "code",
   "execution_count": 14,
   "id": "348c546e",
   "metadata": {},
   "outputs": [
    {
     "name": "stdout",
     "output_type": "stream",
     "text": [
      "Password is Valid\n"
     ]
    },
    {
     "data": {
      "text/plain": [
       "'Password is Valid'"
      ]
     },
     "execution_count": 14,
     "metadata": {},
     "output_type": "execute_result"
    }
   ],
   "source": [
    "def is_valid(paswd):\n",
    "    if len(paswd)<8:\n",
    "        return \"Password is Invalid\"\n",
    "    upper=\"\"\n",
    "    digit=\"\"\n",
    "    for char in paswd:\n",
    "        if char.isupper():\n",
    "            upper=True\n",
    "        if char.isdigit():\n",
    "            digit=True\n",
    "    if upper==True and digit==True:\n",
    "        return \"Password is Valid\"\n",
    "    else:\n",
    "        return \"Password is Invalid\"\n",
    "print(is_valid(\"Kiran1234\"))\n",
    "        \n",
    "            \n",
    "            \n",
    "        \n",
    "is_valid(\"Kiran123\")"
   ]
  },
  {
   "cell_type": "markdown",
   "id": "d7dc80be",
   "metadata": {},
   "source": [
    "5.extract domain from email(user@example.com)"
   ]
  },
  {
   "cell_type": "code",
   "execution_count": 10,
   "id": "524e11ff",
   "metadata": {},
   "outputs": [
    {
     "name": "stdout",
     "output_type": "stream",
     "text": [
      "['name', 'gmail.com']\n",
      "gmail.com\n",
      "Domain of this email is :  gmail\n"
     ]
    }
   ],
   "source": [
    "text3=\"name@gmail.com\"\n",
    "domain=text3.split(\"@\")\n",
    "print(domain)\n",
    "sdomain=domain[1]\n",
    "print(sdomain)\n",
    "Real_domain=sdomain.split(\".\")\n",
    "print(\"Domain of this email is : \" ,Real_domain[0])\n"
   ]
  },
  {
   "cell_type": "code",
   "execution_count": null,
   "id": "d5b1fead",
   "metadata": {},
   "outputs": [],
   "source": []
  }
 ],
 "metadata": {
  "kernelspec": {
   "display_name": "Python 3 (ipykernel)",
   "language": "python",
   "name": "python3"
  },
  "language_info": {
   "codemirror_mode": {
    "name": "ipython",
    "version": 3
   },
   "file_extension": ".py",
   "mimetype": "text/x-python",
   "name": "python",
   "nbconvert_exporter": "python",
   "pygments_lexer": "ipython3",
   "version": "3.7.8rc1"
  }
 },
 "nbformat": 4,
 "nbformat_minor": 5
}
