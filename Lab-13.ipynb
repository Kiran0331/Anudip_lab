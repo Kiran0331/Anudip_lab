{
 "cells": [
  {
   "cell_type": "markdown",
   "id": "57a8af51",
   "metadata": {},
   "source": [
    "# Method Overriding"
   ]
  },
  {
   "cell_type": "markdown",
   "id": "de8f1081",
   "metadata": {},
   "source": [
    "# Vehicle Rental System"
   ]
  },
  {
   "cell_type": "code",
   "execution_count": 8,
   "id": "1333c4bb",
   "metadata": {},
   "outputs": [
    {
     "name": "stdout",
     "output_type": "stream",
     "text": [
      "----------Truck---------------\n",
      "Truck charges extra cost for heavy loads\n",
      " Charges for travel : ₹24500 \n",
      " Additional charges for heavy load : ₹5500 \n",
      " Total Truck charges is ₹30000\n",
      "------------Car--------\n",
      " Car have soame Extra charges for their maintanance\n",
      " Charges for travel : ₹37500 \n",
      " Additional charges for maintanace : ₹3000 \n",
      " Total Car charges is ₹40500\n",
      "-----Bike-------\n",
      " Bike have soame Extra charges for their maintanance\n",
      " Charges for travel : ₹25000 \n",
      " Additional charges for maintanace : ₹5000 \n",
      " Total Car charges is ₹30000\n"
     ]
    }
   ],
   "source": [
    "class Vehicle:\n",
    "    def __init__(self,registration_number,brand,rental_price_perday,no_days):\n",
    "        self.registration_number=registration_number\n",
    "        self.brand=brand\n",
    "        self.rental_price_perday=rental_price_perday\n",
    "        self.no_days=no_days\n",
    "    def calculate_rental_cost(self):\n",
    "        return f\" Cost of the total travel is ₹{self.rental_price_perday * self.no_days}\"\n",
    "class Truck(Vehicle):\n",
    "    def __init__(self,registration_number,brand,rental_price_perday,no_days,additional_charges):\n",
    "        super().__init__(registration_number,brand,rental_price_perday,no_days)\n",
    "        self.additional_charges=additional_charges\n",
    "        \n",
    "    @staticmethod\n",
    "    def truck_info():\n",
    "        print(\"Truck charges extra cost for heavy loads\")\n",
    "        \n",
    "    def calculate_rental_cost(self):\n",
    "        fees=self.rental_price_perday * self.no_days\n",
    "        additional_charge=self.additional_charges\n",
    "        \n",
    "        return f\" Charges for travel : ₹{fees} \\n Additional charges for heavy load : ₹{additional_charge} \\n Total Truck charges is ₹{fees + additional_charge}\"\n",
    "    \n",
    "    def show_info(self):\n",
    "        self.truck_info()\n",
    "        print(self.calculate_rental_cost())\n",
    "        \n",
    "class Car(Vehicle):\n",
    "    def __init__(self,registration_number,brand,rental_price_perday,no_days,extra_charges):\n",
    "        super().__init__(registration_number,brand,rental_price_perday,no_days)\n",
    "        self.extra_charges=extra_charges\n",
    "        \n",
    "    @staticmethod\n",
    "    def car_info():\n",
    "        return \" Car have soame Extra charges for their maintanance\"\n",
    "        \n",
    "    def calculate_rental_cost(self):\n",
    "        fees=self.rental_price_perday * self.no_days\n",
    "        additional_charge=self.extra_charges\n",
    "        return f\" Charges for travel : ₹{fees} \\n Additional charges for maintanace : ₹{additional_charge} \\n Total Car charges is ₹{fees + additional_charge}\"\n",
    "    \n",
    "    def show_info(self):\n",
    "        print(self.car_info())\n",
    "        print(self.calculate_rental_cost())\n",
    "\n",
    "class Bike(Vehicle):\n",
    "    def __init__(self,registration_number,brand,rental_price_perday,no_days,extra_charges):\n",
    "        super().__init__(registration_number,brand,rental_price_perday,no_days)\n",
    "        self.extra_charges=extra_charges\n",
    "        \n",
    "    @staticmethod\n",
    "    def bike_info():\n",
    "        return \" Bike have soame Extra charges for their maintanance\"\n",
    "        \n",
    "    def calculate_rental_cost(self):\n",
    "        fees=self.rental_price_perday * self.no_days\n",
    "        additional_charge=self.extra_charges\n",
    "        return f\" Charges for travel : ₹{fees} \\n Additional charges for maintanace : ₹{additional_charge} \\n Total Car charges is ₹{fees + additional_charge}\"\n",
    "    \n",
    "    def show_info(self):\n",
    "        print(self.bike_info())\n",
    "        print(self.calculate_rental_cost())\n",
    "        \n",
    "\n",
    "        \n",
    "        \n",
    "v1=Vehicle('KA4546','jeep',2000,4)\n",
    "v1.calculate_rental_cost()\n",
    "print(\"----------Truck---------------\")   \n",
    "t1=Truck('KL4142',\"BharathBenz\",3500,7,5500)\n",
    "t1.show_info()\n",
    "print(\"------------Car--------\")\n",
    "c1=Car('KA1718',\"Toyota\",2500,15,3000)\n",
    "c1.show_info()\n",
    "print(\"-----Bike-------\")\n",
    "b1=Bike(\"KA5485\",\"KTM\",1000,25,5000)\n",
    "b1.show_info()"
   ]
  },
  {
   "cell_type": "markdown",
   "id": "258f06e1",
   "metadata": {},
   "source": [
    "# Online Education Platform"
   ]
  },
  {
   "cell_type": "code",
   "execution_count": 16,
   "id": "e2fbe2f6",
   "metadata": {},
   "outputs": [
    {
     "name": "stdout",
     "output_type": "stream",
     "text": [
      "Kiran logged in as a generic user.\n",
      "Teacher Mr.Pavan logged in successfully.\n",
      "Student Kiran logged in successfully.\n",
      "Mr.Pavan created the course: Python programming\n",
      "Kiran enrolled in the course: Python Programming\n"
     ]
    }
   ],
   "source": [
    "class User:\n",
    "    def __init__(self,name,email,user_id):\n",
    "        self.name=name\n",
    "        self.email=email\n",
    "        self.user_id=user_id\n",
    "        \n",
    "    def login(self):\n",
    "        return f\"{self.name} logged in as a generic user.\"\n",
    "        \n",
    "class Teacher(User):\n",
    "    def __init__(self, name, email, user_id):\n",
    "        super().__init__(name, email, user_id)\n",
    "        self.courses_created = []\n",
    "\n",
    "    def create_course(self, course_name):\n",
    "        self.courses_created.append(course_name)\n",
    "        print(f\"{self.name} created the course: {course_name}\")\n",
    "\n",
    "    def login(self):\n",
    "        return f\"Teacher {self.name} logged in successfully.\"\n",
    "\n",
    "class Student(User):\n",
    "    def __init__(self, name, email, user_id):\n",
    "        super().__init__(name, email, user_id)\n",
    "        self.courses_enrolled = []\n",
    "\n",
    "    def enroll_course(self, course_name):\n",
    "        self.courses_enrolled.append(course_name)\n",
    "        print(f\"{self.name} enrolled in the course: {course_name}\")\n",
    "\n",
    "    def login(self):\n",
    "        return f\"Student {self.name} logged in successfully.\" \n",
    "    \n",
    "u1=User(\"Kiran\",\"kiran@gmail\",\"1551\")    \n",
    "print(u1.login())\n",
    "teacher1 = Teacher(\"Mr.Pavan\", \"pavan@example.com\", \"T1-1\")\n",
    "student1 = Student(\"Kiran\", \"kiran@example.com\", \"S2-1\")\n",
    "\n",
    "print(teacher1.login())\n",
    "print(student1.login())\n",
    "\n",
    "teacher1.create_course(\"Python programming\")\n",
    "\n",
    "student1.enroll_course(\"Python Programming\")\n"
   ]
  },
  {
   "cell_type": "code",
   "execution_count": null,
   "id": "aab11028",
   "metadata": {},
   "outputs": [],
   "source": []
  }
 ],
 "metadata": {
  "kernelspec": {
   "display_name": "Python 3 (ipykernel)",
   "language": "python",
   "name": "python3"
  },
  "language_info": {
   "codemirror_mode": {
    "name": "ipython",
    "version": 3
   },
   "file_extension": ".py",
   "mimetype": "text/x-python",
   "name": "python",
   "nbconvert_exporter": "python",
   "pygments_lexer": "ipython3",
   "version": "3.7.8rc1"
  }
 },
 "nbformat": 4,
 "nbformat_minor": 5
}
