{
 "cells": [
  {
   "cell_type": "markdown",
   "id": "fec71a3d",
   "metadata": {},
   "source": [
    " Write a Python program and calculate the mean of the below dictionary.\n",
    " \n",
    "test_dict = {\"A\" : 6, \"B\" : 9, \"C\" : 5, \"D\" : 7, \"E\" : 4}\n",
    "\n",
    "Output: 6.2\n"
   ]
  },
  {
   "cell_type": "code",
   "execution_count": 2,
   "id": "de15322f",
   "metadata": {},
   "outputs": [
    {
     "data": {
      "text/plain": [
       "6.2"
      ]
     },
     "execution_count": 2,
     "metadata": {},
     "output_type": "execute_result"
    }
   ],
   "source": [
    "test_dict = {\"A\" : 6, \"B\" : 9, \"C\" : 5, \"D\" : 7, \"E\" : 4}\n",
    "count=0\n",
    "n=0\n",
    "for key,value in test_dict.items():\n",
    "    count+=value\n",
    "    n+=1\n",
    "res=count/n\n",
    "res\n",
    "    "
   ]
  },
  {
   "cell_type": "markdown",
   "id": "26ffe039",
   "metadata": {},
   "source": [
    "2.Write a Python script to concatenate the following dictionaries to create a new one.\n",
    "Sample Dictionary :\n",
    "\n",
    "dic1={1:10, 2:20}\n",
    "\n",
    "dic2={3:30, 4:40}\n",
    "\n",
    "dic3={5:50,6:60}\n",
    "\n",
    "Expected Result : {1: 10, 2: 20, 3: 30, 4: 40, 5: 50, 6: 60}\n"
   ]
  },
  {
   "cell_type": "code",
   "execution_count": 8,
   "id": "292070ab",
   "metadata": {},
   "outputs": [
    {
     "data": {
      "text/plain": [
       "{1: 10, 2: 20, 3: 30, 4: 40, 5: 50, 6: 60}"
      ]
     },
     "execution_count": 8,
     "metadata": {},
     "output_type": "execute_result"
    }
   ],
   "source": [
    "dic1={1:10, 2:20}\n",
    "dic2={3:30, 4:40}\n",
    "dic3={5:50,6:60}\n",
    "dic1.update(dic2) \n",
    "dic1.update(dic3)\n",
    "dic1"
   ]
  },
  {
   "cell_type": "markdown",
   "id": "ff400c13",
   "metadata": {},
   "source": [
    "Write a Python program to get the key, value and item in a dictionary.\n",
    "\n",
    "input:dict_num = {1: 10, 2: 20, 3: 30, 4: 40, 5: 50, 6: 60}\n"
   ]
  },
  {
   "cell_type": "code",
   "execution_count": 9,
   "id": "7dd6a0e8",
   "metadata": {},
   "outputs": [
    {
     "name": "stdout",
     "output_type": "stream",
     "text": [
      "1 : 10\n",
      "2 : 20\n",
      "3 : 30\n",
      "4 : 40\n",
      "5 : 50\n",
      "6 : 60\n"
     ]
    }
   ],
   "source": [
    "dict_num = {1: 10, 2: 20, 3: 30, 4: 40, 5: 50, 6: 60}\n",
    "for key, value in dict_num.items():\n",
    "    print(f\"{key} : {value}\")"
   ]
  },
  {
   "cell_type": "markdown",
   "id": "e094b9ce",
   "metadata": {},
   "source": [
    "4.Write a Python program to get the key, value and item in a dictionary.\n",
    "\n",
    "Input: input_dict = {1: 10, 2: 20, 3:None, 4: 40, 5: None, 6: 60}\n"
   ]
  },
  {
   "cell_type": "code",
   "execution_count": 11,
   "id": "35524bae",
   "metadata": {},
   "outputs": [
    {
     "name": "stdout",
     "output_type": "stream",
     "text": [
      "1 : 10\n",
      "2 : 20\n",
      "3 : None\n",
      "4 : 40\n",
      "5 : None\n",
      "6 : 60\n"
     ]
    }
   ],
   "source": [
    "input_dict = {1: 10, 2: 20, 3:None, 4: 40, 5: None, 6: 60}\n",
    "for key, value in input_dict.items():\n",
    "    print(f\"{key} : {value}\")"
   ]
  },
  {
   "cell_type": "markdown",
   "id": "d9b4cedc",
   "metadata": {},
   "source": [
    "build a simple Employee Management System using Python. Store the details of employees in a dictionary where the employee ID is the key and the value is another\n",
    "\n",
    " dictionary containing the employee's name, department, and salary.\n",
    "\n",
    "Write a Python program that:\n",
    "\n",
    "Stores details of at least 3 employees.\n",
    "\n",
    "Takes an employee ID as input from the user.\n",
    "\n",
    "If the employee ID exists, display the employee's name, department, and salary.\n",
    "\n",
    "If the employee ID does not exist, display \"Employee not found!\"."
   ]
  },
  {
   "cell_type": "code",
   "execution_count": 2,
   "id": "6f517e86",
   "metadata": {},
   "outputs": [
    {
     "name": "stdout",
     "output_type": "stream",
     "text": [
      "Enter user ID : rk1\n",
      "---------------Data Found.-------------------\n",
      "name : abhi\n",
      "dept : production\n",
      "salary : 35000\n"
     ]
    }
   ],
   "source": [
    "employee={\n",
    "    \"rk1\" : {\"name\" : \"abhi\", \"dept\" : \"production\", \"salary\" : 35000},\n",
    "    \"rk2\" : {\"name\" : \"adi\", \"dept\" : \"Technical\", \"salary\" : 75000},\n",
    "    \"rk3\" : {\"name\" : \"ani\", \"dept\" : \"health\", \"salary\" : 55000}\n",
    "}\n",
    "val=input(\"Enter user ID : \")\n",
    "count=0\n",
    "for k, v in employee.items():\n",
    "    if val==k:\n",
    "        count+=1\n",
    "        print(\"---------------Data Found.-------------------\")\n",
    "        for s, t in v.items():\n",
    "            print(f\"{s} : {t}\")\n",
    "if count ==0:\n",
    "    print(\"data not found...!\")\n"
   ]
  },
  {
   "cell_type": "code",
   "execution_count": null,
   "id": "3a960ade",
   "metadata": {},
   "outputs": [],
   "source": []
  }
 ],
 "metadata": {
  "kernelspec": {
   "display_name": "Python 3 (ipykernel)",
   "language": "python",
   "name": "python3"
  },
  "language_info": {
   "codemirror_mode": {
    "name": "ipython",
    "version": 3
   },
   "file_extension": ".py",
   "mimetype": "text/x-python",
   "name": "python",
   "nbconvert_exporter": "python",
   "pygments_lexer": "ipython3",
   "version": "3.7.8rc1"
  }
 },
 "nbformat": 4,
 "nbformat_minor": 5
}
