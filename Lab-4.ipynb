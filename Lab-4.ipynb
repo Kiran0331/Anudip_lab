{
 "cells": [
  {
   "cell_type": "markdown",
   "id": "a2c76f93",
   "metadata": {},
   "source": [
    "1. Add and remove student names from a list"
   ]
  },
  {
   "cell_type": "code",
   "execution_count": 5,
   "id": "33359b52",
   "metadata": {},
   "outputs": [
    {
     "data": {
      "text/plain": [
       "['Goutham', 'Abhi', 'Aditya', 'Shashi', 'Shashank', 'Kiran', 'Manoj']"
      ]
     },
     "execution_count": 5,
     "metadata": {},
     "output_type": "execute_result"
    }
   ],
   "source": [
    "students=[\"Abhi\",\"Aditya\",\"Shashi\",\"Shashank\",\"Kiran\",\"Manoj\"]\n",
    "students.insert(0,\"Goutham\")\n",
    "students"
   ]
  },
  {
   "cell_type": "code",
   "execution_count": 6,
   "id": "b7ce633e",
   "metadata": {},
   "outputs": [
    {
     "data": {
      "text/plain": [
       "['Goutham', 'Abhi', 'Aditya', 'Shashi', 'Shashank', 'Kiran']"
      ]
     },
     "execution_count": 6,
     "metadata": {},
     "output_type": "execute_result"
    }
   ],
   "source": [
    "students.remove(\"Manoj\")\n",
    "students"
   ]
  },
  {
   "cell_type": "markdown",
   "id": "97bfcf66",
   "metadata": {},
   "source": [
    "2. Create a list of even numbers from 1 to 20.\n"
   ]
  },
  {
   "cell_type": "code",
   "execution_count": 8,
   "id": "9036d516",
   "metadata": {},
   "outputs": [
    {
     "data": {
      "text/plain": [
       "[0, 2, 4, 6, 8, 10, 12, 14, 16, 18, 20]"
      ]
     },
     "execution_count": 8,
     "metadata": {},
     "output_type": "execute_result"
    }
   ],
   "source": [
    "res=[x*2 for x in range(11)]\n",
    "res"
   ]
  },
  {
   "cell_type": "markdown",
   "id": "98a434a6",
   "metadata": {},
   "source": [
    "3.Find the average of marks from a list.\n"
   ]
  },
  {
   "cell_type": "code",
   "execution_count": 16,
   "id": "8e17d61e",
   "metadata": {},
   "outputs": [
    {
     "name": "stdout",
     "output_type": "stream",
     "text": [
      "Number of subjects :  5\n",
      "Total Marks :  360\n",
      "Average Marks :  72.0\n"
     ]
    }
   ],
   "source": [
    "marks=[71,68,72,75,74]\n",
    "val=sum(marks)\n",
    "print(\"Number of subjects : \",len(marks))\n",
    "print(\"Total Marks : \", val)\n",
    "avg_marks=val/len(marks)\n",
    "print(\"Average Marks : \", avg_marks)"
   ]
  },
  {
   "cell_type": "markdown",
   "id": "9147d74e",
   "metadata": {},
   "source": [
    "4.Check if a product is available in a shopping cart.\n"
   ]
  },
  {
   "cell_type": "code",
   "execution_count": 17,
   "id": "1f393503",
   "metadata": {},
   "outputs": [
    {
     "name": "stdout",
     "output_type": "stream",
     "text": [
      "pen is available\n"
     ]
    }
   ],
   "source": [
    "cart=[\"books\",\"pen\",\"pencils\",\"paper\"]\n",
    "name=\"pen\"\n",
    "if name in cart:\n",
    "    print(f\"{name} is available\")\n",
    "else:\n",
    "    print(\"Item not available\")"
   ]
  },
  {
   "cell_type": "markdown",
   "id": "9e51958b",
   "metadata": {},
   "source": [
    "5.Count how many times a name appears in a list.\n"
   ]
  },
  {
   "cell_type": "code",
   "execution_count": 18,
   "id": "e05090b5",
   "metadata": {},
   "outputs": [
    {
     "data": {
      "text/plain": [
       "3"
      ]
     },
     "execution_count": 18,
     "metadata": {},
     "output_type": "execute_result"
    }
   ],
   "source": [
    "list1=['kiran','kiran','aditya','nandi','kiran']\n",
    "list1.count('kiran')"
   ]
  },
  {
   "cell_type": "markdown",
   "id": "b4e9bb1e",
   "metadata": {},
   "source": [
    "6. Write a Python program to split a given list into two parts where the length of the first\n",
    "part of the list is given.\n",
    "\n",
    "Original list:\n",
    "\n",
    "[1, 1, 2, 3, 4, 4, 5, 1]\n",
    "Length of the first part of the list: 3\n",
    "\n",
    "Splitted the said list into two parts:\n",
    "\n",
    "([1, 1, 2], [3, 4, 4, 5, 1])"
   ]
  },
  {
   "cell_type": "code",
   "execution_count": 21,
   "id": "534bd9b6",
   "metadata": {},
   "outputs": [
    {
     "name": "stdout",
     "output_type": "stream",
     "text": [
      "[[1, 1, 2], [3, 4, 4, 5, 1]]\n"
     ]
    }
   ],
   "source": [
    "num=[1, 1, 2, 3, 4, 4, 5, 1]\n",
    "num1=num[:3]\n",
    "num2=num[3:]\n",
    "print([num1,num2])"
   ]
  },
  {
   "cell_type": "code",
   "execution_count": null,
   "id": "ed039feb",
   "metadata": {},
   "outputs": [],
   "source": []
  }
 ],
 "metadata": {
  "kernelspec": {
   "display_name": "Python 3 (ipykernel)",
   "language": "python",
   "name": "python3"
  },
  "language_info": {
   "codemirror_mode": {
    "name": "ipython",
    "version": 3
   },
   "file_extension": ".py",
   "mimetype": "text/x-python",
   "name": "python",
   "nbconvert_exporter": "python",
   "pygments_lexer": "ipython3",
   "version": "3.7.8rc1"
  }
 },
 "nbformat": 4,
 "nbformat_minor": 5
}
