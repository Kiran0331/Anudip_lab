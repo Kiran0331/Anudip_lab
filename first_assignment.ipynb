{
 "cells": [
  {
   "cell_type": "code",
   "execution_count": 5,
   "id": "ce6f1986",
   "metadata": {},
   "outputs": [
    {
     "name": "stdout",
     "output_type": "stream",
     "text": [
      "enter the number 65\n",
      "odd\n"
     ]
    }
   ],
   "source": [
    "def evenodd(n):\n",
    "    if n%2==0:\n",
    "        print(\"even\")\n",
    "    else:\n",
    "        print(\"odd\")\n",
    "n=int(input(\"enter the number \"))\n",
    "evenodd(n)"
   ]
  },
  {
   "cell_type": "code",
   "execution_count": 7,
   "id": "fddbe8d5",
   "metadata": {},
   "outputs": [
    {
     "name": "stdout",
     "output_type": "stream",
     "text": [
      "enter number 99\n",
      "False\n"
     ]
    }
   ],
   "source": [
    "def prime(n):\n",
    "    if n==1:\n",
    "        return 1\n",
    "    elif n%2==0:\n",
    "        return False\n",
    "    elif n%3==0:\n",
    "        return False\n",
    "    else:\n",
    "        for i in range(3,int(n**0.5) +1 ,2):\n",
    "            if n%i==0:\n",
    "                return False\n",
    "            else:\n",
    "                return True\n",
    "n=int(input(\"enter number \"))\n",
    "print(prime(n))\n",
    "            "
   ]
  },
  {
   "cell_type": "code",
   "execution_count": 2,
   "id": "6b53986a",
   "metadata": {},
   "outputs": [
    {
     "name": "stdout",
     "output_type": "stream",
     "text": [
      "enter number63\n",
      "enter number59\n",
      "enter number65\n",
      "enter number48\n",
      "enter number98\n",
      "66.6\n"
     ]
    }
   ],
   "source": [
    "def avgsubjectmarks():\n",
    "    val=0\n",
    "    for i in range(5):\n",
    "        n=int(input(\"Enter your marks \"))\n",
    "        val+=n\n",
    "    res=val/5\n",
    "    print(res)\n",
    "avgsubjectmarks()\n",
    "    "
   ]
  },
  {
   "cell_type": "code",
   "execution_count": 3,
   "id": "fa4b5d25",
   "metadata": {},
   "outputs": [
    {
     "name": "stdout",
     "output_type": "stream",
     "text": [
      "Enter Your Name Kiran\n",
      "Enter your age 23\n",
      " Enter your height 5.6\n",
      " Enter your college Pesitm\n"
     ]
    }
   ],
   "source": [
    "name=input(\"Enter Your Name \")\n",
    "age=int(input(\"Enter your age \"))\n",
    "height=input(\" Enter your height \")\n",
    "college=input(\" Enter your college \")"
   ]
  },
  {
   "cell_type": "code",
   "execution_count": null,
   "id": "3d173426",
   "metadata": {},
   "outputs": [],
   "source": []
  }
 ],
 "metadata": {
  "kernelspec": {
   "display_name": "Python 3 (ipykernel)",
   "language": "python",
   "name": "python3"
  },
  "language_info": {
   "codemirror_mode": {
    "name": "ipython",
    "version": 3
   },
   "file_extension": ".py",
   "mimetype": "text/x-python",
   "name": "python",
   "nbconvert_exporter": "python",
   "pygments_lexer": "ipython3",
   "version": "3.7.8rc1"
  }
 },
 "nbformat": 4,
 "nbformat_minor": 5
}
